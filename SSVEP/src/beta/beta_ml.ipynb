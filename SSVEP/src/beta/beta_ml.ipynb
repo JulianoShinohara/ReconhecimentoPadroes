{
 "cells": [
  {
   "cell_type": "markdown",
   "metadata": {},
   "source": [
    "## Análise da base de dados `Beta` utilizando algoritmos de ML\n",
    "\n",
    "Neste notebook será analisado o `Beta dataset` utilizando algoritmos de ML para realizar a (1) extração de características, (2) seleção de características e (3) classificação dos dados\n",
    "\n",
    "### Pontos importantes do dataset\n",
    "\n",
    "- Frequências estimuladas (total de 40, com a diferença de 0.2 Hz uma da outra): 8.0, 8.2, ..., 15.6, 15.8;\n",
    "- Taxa de amostragem: 250 Hz"
   ]
  },
  {
   "cell_type": "markdown",
   "metadata": {},
   "source": [
    "### Analisar os \"momentos\" em que ocorrem evocação do sinal SSVEP\n",
    "\n",
    "1. Criar o objeto `MNE` a partir dos dados dados do participante;\n",
    "2. Aplicar no objeto `MNE` o filtro passa-faixa nos valores de 6 - 18 Hz;\n",
    "3. Criar cópias do objeto `MNE` com fatias de tempo menores para analisar momentos que ocorrem estimulos ou não (verificar artigo);\n",
    "    a) 0.0 - 0.5 segundos e 2.5 - 3.0 segundos ocorre apenas ruído;\n",
    "    b) 0.5 - 2.5 segundos ocorre sinal SSVEP (com ruídos)\n",
    "4. Com os sinais separados em objetos `MNE`, aplicar a `FFT`, para que seja possível plotar gráficos que contenham (ou não) as informações.\n",
    "    - Os dados devem ser plotados no domínio da frequência (após a transformada de Fourier). O FFT pode ser realizado pela biblioteca `scipy.fft`.\n",
    "    - Deve ser observado que as janelas (a) com ruído não aparecerão de fato o sinal SSVEP."
   ]
  },
  {
   "cell_type": "markdown",
   "metadata": {},
   "source": [
    "### Extração de características\n",
    "\n",
    "Uma característica importante de acordo com o artigo base do dataset `BETA` é o *signal-to-noise ratio* (SNR).\n",
    "São dois tipos de características SNR que podem ser implementadas: SNR de banda estreita (`narrow-SNR`) e SNR de banda larga (`wide-band SNR`).\n",
    "\n",
    "Uma boa prática, é considerar o ruído das medidas de `SNR`, uma vez que os dados `SSVEP` não estão estimulados durante os períodos de 0 a 0,5 segundos e de 2,5 a 3 segundos. O ruído pode afetar a precisão das medidas de `SNR` e, portanto, é aconselhável levar isso em consideração.\n"
   ]
  },
  {
   "cell_type": "code",
   "execution_count": 203,
   "metadata": {},
   "outputs": [],
   "source": [
    "# Lendo dados\n",
    "\n",
    "import numpy as np\n",
    "import mne\n",
    "\n",
    "import warnings\n",
    "warnings.filterwarnings('ignore')\n",
    "\n",
    "from sklearn.model_selection import train_test_split\n",
    "from sklearn.preprocessing import StandardScaler\n",
    "from sklearn.preprocessing import LabelEncoder\n",
    "from sklearn.metrics import accuracy_score\n",
    "from sklearn.impute import SimpleImputer\n",
    "from sklearn.svm import SVC\n",
    "\n",
    "dataMNE = mne.read_epochs(\"../../datasets/beta/beta-epo.fif\", verbose= False)\n",
    "data = np.load(\"../../datasets/beta/data_beta.npy\")\n",
    "labels = np.load(\"../../datasets/beta/labels_beta2.npy\")"
   ]
  },
  {
   "cell_type": "markdown",
   "metadata": {},
   "source": [
    "Agora iremos estimar o ruído de fundo, para calcular posteriormente o `narrow SNR` e o `wide-band SNR`. "
   ]
  },
  {
   "cell_type": "code",
   "execution_count": 204,
   "metadata": {},
   "outputs": [
    {
     "data": {
      "text/plain": [
       "46372.03540036216"
      ]
     },
     "execution_count": 204,
     "metadata": {},
     "output_type": "execute_result"
    }
   ],
   "source": [
    "base_start = 0\n",
    "base_end = 125\n",
    "rest_start = 625\n",
    "rest_end = 720\n",
    "\n",
    "# armazena uma lista com as médias de potência para cada canal\n",
    "noise_power = []\n",
    "# consideramos a primeira amostra (1º target, 1º trial)\n",
    "for channel_data in dataMNE.get_data()[0, :, :]:\n",
    "    fft_result = np.fft.fft(channel_data)\n",
    "    # densidade espectral de potência (PSD)\n",
    "    psd = np.abs(fft_result) ** 2\n",
    "    # média da potência nos intervalos de tempo sem estímulo\n",
    "    base_power = np.mean(psd[base_start:base_end])\n",
    "    rest_power = np.mean(psd[rest_start:rest_end])\n",
    "    # média das duas médias de potência obtidas anteriormente\n",
    "    mean_noise_power = (base_power + rest_power) / 2\n",
    "    noise_power.append(mean_noise_power)\n",
    "# média das médias de potência de todos os canais para estimar o ruído de fundo\n",
    "estimated_background_noise = np.mean(noise_power)\n",
    "estimated_background_noise"
   ]
  },
  {
   "cell_type": "markdown",
   "metadata": {},
   "source": [
    "Antes de calcular os SNRs, precisamos obter as amplitudes alvo por meio dos dados EEG:"
   ]
  },
  {
   "cell_type": "code",
   "execution_count": 205,
   "metadata": {},
   "outputs": [
    {
     "data": {
      "text/plain": [
       "(160, 64, 40)"
      ]
     },
     "execution_count": 205,
     "metadata": {},
     "output_type": "execute_result"
    }
   ],
   "source": [
    "from scipy.signal import find_peaks\n",
    "\n",
    "sr = 250\n",
    "\n",
    "# frequências alvo\n",
    "target_frequencies = np.arange(8, 16, 0.2)\n",
    "# lista para armazenar as amplitudes nas frequências alvo\n",
    "target_amplitudes = []\n",
    "\n",
    "for channel_data in dataMNE.get_data():\n",
    "    target = []\n",
    "    for electrode in channel_data:\n",
    "        fft_result = np.fft.fft(electrode)\n",
    "        psd = np.abs(fft_result) ** 2\n",
    "        frequencies = np.fft.fftfreq(len(fft_result), 1 / sr)\n",
    "        target_amplitudes_trial = []\n",
    "        for target_frequency in target_frequencies:\n",
    "            # encontrando o índice da frequência alvo no espectro de frequência\n",
    "            index = np.argmin(np.abs(frequencies - target_frequency))\n",
    "            # amplitude na frequência alvo\n",
    "            amplitude = np.sqrt(psd[index])\n",
    "            target_amplitudes_trial.append(amplitude)\n",
    "\n",
    "        target.append(target_amplitudes_trial)\n",
    "        \n",
    "    target_amplitudes.append(target)\n",
    "\n",
    "target_amplitudes = np.array(target_amplitudes)\n",
    "target_amplitudes.shape"
   ]
  },
  {
   "cell_type": "markdown",
   "metadata": {},
   "source": [
    "Vamos calcular o SNR de \"banda estreita\". Pode ser observado pela seguinte equação:\n",
    "\n",
    "$SNR_{banda\\ estreita} = 10 \\cdot \\log_{10}\\left(\\frac{\\text{energia total do espectro}}{\\text{média das amplitudes nas frequências vizinhas}}\\right)$\n",
    "\n",
    "Já o SNR de banda larga é definido da seguinte forma:\n",
    "\n",
    "$SNR_{banda\\ larga} = 10 \\cdot \\log_{10}\\left(\\frac{\\text{energia total do espectro}}{\\text{energia total do espectro de amplitude}}\\right)$"
   ]
  },
  {
   "cell_type": "code",
   "execution_count": 206,
   "metadata": {},
   "outputs": [
    {
     "name": "stdout",
     "output_type": "stream",
     "text": [
      "(160, 64, 40)\n",
      "(160, 64, 40)\n",
      "(160, 64, 80)\n"
     ]
    }
   ],
   "source": [
    "# forçando (estragando) valor de \"estimated_background_noise\" para não sobrar valores negativos\n",
    "# estimated_background_noise = 1.\n",
    "target_amplitudes_adjusted = target_amplitudes - estimated_background_noise\n",
    "\n",
    "# subtraindo o ruído de fundo das amplitudes\n",
    "narrow_band_SNR = 10 * np.log10(target_amplitudes_adjusted / estimated_background_noise)\n",
    "# print(narrow_band_SNR)\n",
    "print(narrow_band_SNR.shape)\n",
    "\n",
    "total_power = np.sum(target_amplitudes_adjusted)\n",
    "wide_band_SNR = 10 * np.log10(target_amplitudes_adjusted / total_power)\n",
    "# print(wide_band_SNR)\n",
    "print(wide_band_SNR.shape)\n",
    "\n",
    "X = np.array([narrow_band_SNR, wide_band_SNR])\n",
    "X = np.swapaxes(X, 0, 1)\n",
    "X = np.swapaxes(X, 1, 2)\n",
    "X = X.reshape(X.shape[0], X.shape[1], X.shape[2] * X.shape[3])\n",
    "print(X.shape)\n"
   ]
  },
  {
   "cell_type": "markdown",
   "metadata": {},
   "source": [
    "Ao final desta etapa, será obtido um vetor de características. Estas podem ser:\n",
    "- `narrow SNR` (brigatória);\n",
    "- `wide-band SNR` (brigatória);\n",
    "- Maior valor espectral (FFT);\n",
    "- Média dos valores espectrais (FFT).\n",
    "\n",
    "Dimensionalidade dos dados será explicada da seguinte forma:\n",
    "\n",
    "`40, 4, 64, 750` -> 40 targets, 4 trials, 64 canais e 750 valores\n",
    "`160, 64 (SNR) + 64 (média) + 64 (maior) ...`\n",
    "Resultando em `160, 192`."
   ]
  },
  {
   "cell_type": "markdown",
   "metadata": {},
   "source": [
    "### Seleção de características e classificação\n",
    "\n",
    "Como existem diversos eletrodos (canais) que não obtém sinal SSVEP, podemos extrair as caracteríscas que não contribuem para a classificação dos dados.\n",
    "\n",
    "Podemos utilizar o método `RFE` (*Recursive Feature Elimination*) aplicado por meio de `sklearn.feature_selection.RFE`, aprimorando o parâmetro `n_features_to_select` até obter o melhor resultado de classificação.\n",
    "\n",
    "Para a classificação propriamente dita, é considerado o uso do método `SVM`."
   ]
  },
  {
   "cell_type": "code",
   "execution_count": 207,
   "metadata": {},
   "outputs": [
    {
     "name": "stdout",
     "output_type": "stream",
     "text": [
      "['FP1', 'FPZ', 'FP2', 'AF3', 'AF4', 'F7', 'F5', 'F3', 'F1', 'FZ', 'F2', 'F4', 'F6', 'F8', 'FT7', 'FC5', 'FC3', 'FC1', 'FCZ', 'FC2', 'FC4', 'FC6', 'FT8', 'T7', 'C5', 'C3', 'C1', 'CZ', 'C2', 'C4', 'C6', 'T8', 'M1', 'TP7', 'CP5', 'CP3', 'CP1', 'CPZ', 'CP2', 'CP4', 'CP6', 'TP8', 'M2', 'P7', 'P5', 'P3', 'P1', 'PZ', 'P2', 'P4', 'P6', 'P8', 'PO7', 'PO5', 'PO3', 'POZ', 'PO4', 'PO6', 'PO8', 'CB1', 'O1', 'OZ', 'O2', 'CB2']\n",
      "(160, 9, 80) (160, 64, 80)\n",
      "(160, 720)\n"
     ]
    }
   ],
   "source": [
    "# TAREFA 3\n",
    "import matplotlib.pyplot as plt\n",
    "\n",
    "channels = list(np.load(\"../../datasets/beta/channels_beta.npy\"))\n",
    "print(channels)\n",
    "\n",
    "# data = mne.read_epochs(\"../../datasets/beta/beta-epo.fif\")\n",
    "channelList = [\"PZ\", \"PO3\", \"PO5\", \"PO4\", \"PO6\", \"POZ\", \"O1\", \"OZ\", \"O2\"]\n",
    "index_remove = np.where(np.isin(channels, channelList, invert=True))\n",
    "rest = [item for item in channels if item not in channelList]\n",
    "\n",
    "X_new = np.delete(X, index_remove, axis=1)\n",
    "print(X_new.shape, X.shape)\n",
    "\n",
    "X_reshape = X_new.reshape(X_new.shape[0], X_new.shape[1] * X_new.shape[2])\n",
    "print(X_reshape.shape)"
   ]
  },
  {
   "cell_type": "code",
   "execution_count": 208,
   "metadata": {},
   "outputs": [
    {
     "name": "stdout",
     "output_type": "stream",
     "text": [
      "0.0625\n"
     ]
    }
   ],
   "source": [
    "\n",
    "X_SS = StandardScaler().fit_transform(X_reshape)\n",
    "y = LabelEncoder().fit_transform(labels)\n",
    "\n",
    "imputer = SimpleImputer(missing_values=np.nan, strategy='mean')\n",
    "X_SS = imputer.fit_transform(X_SS)\n",
    "\n",
    "X_train, X_test, y_train, y_test = train_test_split(X_SS, y, test_size=0.3, random_state=42)\n",
    "\n",
    "clf = SVC(kernel='linear', C=1, probability=True, random_state=42).fit(X_train, y_train)\n",
    "\n",
    "y_pred = clf.predict(X_test)\n",
    "\n",
    "print(accuracy_score(y_test, y_pred))"
   ]
  },
  {
   "cell_type": "code",
   "execution_count": 229,
   "metadata": {},
   "outputs": [
    {
     "data": {
      "text/plain": [
       "(160, 100)"
      ]
     },
     "execution_count": 229,
     "metadata": {},
     "output_type": "execute_result"
    }
   ],
   "source": [
    "from sklearn.feature_selection import RFECV\n",
    "from sklearn.model_selection import StratifiedKFold\n",
    "\n",
    "X_reshape_2 = X.reshape(X.shape[0], X.shape[1] * X.shape[2])\n",
    "\n",
    "X_SS_2 = StandardScaler().fit_transform(X_reshape_2)\n",
    "y_2 = LabelEncoder().fit_transform(labels)\n",
    "\n",
    "imputer = SimpleImputer(missing_values=np.nan, strategy='mean')\n",
    "X_SS_2 = imputer.fit_transform(X_SS_2)\n",
    "\n",
    "skf = StratifiedKFold(n_splits=3)\n",
    "rfe = RFECV(SVC(kernel=\"linear\"), step=0.01, min_features_to_select=100, cv=skf, scoring='accuracy', n_jobs=8)\n",
    "X_rfe = rfe.fit_transform(X_SS_2, y_2)\n",
    "X_rfe.shape\n"
   ]
  },
  {
   "cell_type": "code",
   "execution_count": 230,
   "metadata": {},
   "outputs": [
    {
     "name": "stdout",
     "output_type": "stream",
     "text": [
      "Accuracy: 53.12 %\n"
     ]
    }
   ],
   "source": [
    "X_train_full, X_test_full, y_train_full, y_test_full = train_test_split(X_rfe, y, test_size=0.2, random_state=42)\n",
    "\n",
    "svm_full_model = SVC(kernel='linear', C=5, probability=True, gamma='auto').fit(X_train_full, y_train_full)\n",
    "y_full_pred = svm_full_model.predict(X_test_full)\n",
    "\n",
    "print(\"Accuracy: %.2f %%\" % (accuracy_score(y_test_full, y_full_pred) * 100))\n",
    "# 21.88"
   ]
  },
  {
   "cell_type": "code",
   "execution_count": 234,
   "metadata": {},
   "outputs": [
    {
     "data": {
      "text/plain": [
       "(160, 100)"
      ]
     },
     "execution_count": 234,
     "metadata": {},
     "output_type": "execute_result"
    }
   ],
   "source": [
    "from sklearn.feature_selection import SelectKBest, f_classif\n",
    "from sklearn.preprocessing import MinMaxScaler\n",
    "\n",
    "imputer = SimpleImputer(missing_values=np.nan, strategy='mean')\n",
    "X_KBest = imputer.fit_transform(X_reshape_2)\n",
    "\n",
    "# Normalizando o X\n",
    "X_KBest_norm = MinMaxScaler().fit_transform(X_KBest)\n",
    "\n",
    "X_full_KBest = SelectKBest(f_classif, k=100).fit_transform(X_KBest_norm, y)\n",
    "X_full_KBest.shape"
   ]
  },
  {
   "cell_type": "code",
   "execution_count": 239,
   "metadata": {},
   "outputs": [
    {
     "name": "stdout",
     "output_type": "stream",
     "text": [
      "Accuracy: 31.25 %\n"
     ]
    }
   ],
   "source": [
    "X_train_full, X_test_full, y_train_full, y_test_full = train_test_split(X_full_KBest, y, test_size=0.3, random_state=42)\n",
    "\n",
    "svm_full_model = SVC(kernel='linear').fit(X_train_full, y_train_full)\n",
    "y_full_pred = svm_full_model.predict(X_test_full)\n",
    "\n",
    "print(\"Accuracy: %.2f %%\" % (accuracy_score(y_test_full, y_full_pred) * 100))"
   ]
  },
  {
   "cell_type": "code",
   "execution_count": 245,
   "metadata": {},
   "outputs": [
    {
     "name": "stdout",
     "output_type": "stream",
     "text": [
      "Accuracy: 25.00 %\n"
     ]
    }
   ],
   "source": [
    "from sklearn.ensemble import RandomForestClassifier\n",
    "\n",
    "X_train_rfc, X_test_rfc, y_train_rfc, y_test_rfc = train_test_split(X_full_KBest, y, test_size=0.3, random_state=42)\n",
    "\n",
    "rfc = RandomForestClassifier(n_estimators=1000, random_state=42, n_jobs=8)\n",
    "rfc.fit(X_train_rfc, y_train_rfc)\n",
    "\n",
    "# assuming X_test is your test feature matrix\n",
    "y_pred = rfc.predict(X_test_rfc)\n",
    "\n",
    "# calculate accuracy\n",
    "print(\"Accuracy: %.2f %%\" % (accuracy_score(y_test_rfc, y_pred) * 100))\n"
   ]
  }
 ],
 "metadata": {
  "kernelspec": {
   "display_name": "venv",
   "language": "python",
   "name": "python3"
  },
  "language_info": {
   "codemirror_mode": {
    "name": "ipython",
    "version": 3
   },
   "file_extension": ".py",
   "mimetype": "text/x-python",
   "name": "python",
   "nbconvert_exporter": "python",
   "pygments_lexer": "ipython3",
   "version": "3.10.7"
  },
  "orig_nbformat": 4
 },
 "nbformat": 4,
 "nbformat_minor": 2
}
