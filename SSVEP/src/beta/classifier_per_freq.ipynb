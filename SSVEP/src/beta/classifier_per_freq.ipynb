{
 "cells": [
  {
   "cell_type": "markdown",
   "metadata": {},
   "source": [
    "## Classificação por isolamento de frequência\n",
    "\n",
    "Neste notebook será realizado um exemplo de classificação, isolando todas as frequências estimuladas no conjunto de dados `AVI SSVEP Single Target`. "
   ]
  },
  {
   "cell_type": "markdown",
   "metadata": {},
   "source": [
    "### Passos para a realização da classificação:\n",
    "\n",
    "1. **Carrega** o arquivo `fif` (`mne.EpochsArray`) dos dados **filtrados**;\n",
    "2. **Determine o limiar** para isolar cada uma das frequências estimuladas. Por exemplo, a faixa de frequência para o estímulo de 6.5 Hz irá resultar em pontos (`PSD`) que irão variar de 6.3 à 6.7 Hz, caso o limiar seja de 0.2 Hz;\n",
    "3. **Obter a \"energia\"** do sinal por meio do cálculo `compute_psd` para cada uma das faixas de frequência que podem ser estimuladas. Por exemplo:\n",
    "    - Obtenha todas as frequências estimuladas. Ex: 6, 6.5, 7, 7.5, 8.2 e 9.3;\n",
    "    - Obtenha o valor mínimo e o máximo para cada frequência utilizando limiar. Ex: (5.8, 6.2), (6.3, 6.7), ...\n",
    "    - Aplique o `compute_psd` para cada tupla (min, max), por meio dos parâmetros `fmin` e `fmax` do mesmo método.\n",
    "4. Com as listas de pontos isoladas e computadas (`PSD`) para cada amostra, aplique um cálculo de característica adequada. Características manuais interessantes para este exemplo podem ser `max_value`, `average` ou `median`. No fim deste passo iremos obter um **vetor de características**;\n",
    "5. Por fim, realize a **classificação**, que será um **cálculo de voto** simples (maior valor é provavelmente o a frequência evocada).\n",
    "\n",
    "A seguir, um exemplo desta classificação com os dados `single target` de `AVI dataset`:"
   ]
  },
  {
   "cell_type": "code",
   "execution_count": 96,
   "metadata": {},
   "outputs": [
    {
     "name": "stdout",
     "output_type": "stream",
     "text": [
      "Reading c:\\Users\\vinny\\OneDrive\\Documentos\\UTFPR\\Reconhecimento de Padroes\\tutoriais\\SSVEP\\src\\beta\\..\\..\\datasets\\beta\\beta-epo.fif ...\n",
      "Isotrak not found\n",
      "    Found the data of interest:\n",
      "        t =       0.00 ...    2996.00 ms\n",
      "        0 CTF compensation matrices available\n",
      "Not setting metadata\n",
      "160 matching events found\n",
      "No baseline correction applied\n",
      "0 projection items activated\n"
     ]
    }
   ],
   "source": [
    "import mne\n",
    "import numpy as np\n",
    "\n",
    "# tarefa 1\n",
    "data = mne.read_epochs(\"../../datasets/beta/beta-epo.fif\")"
   ]
  },
  {
   "cell_type": "code",
   "execution_count": 97,
   "metadata": {},
   "outputs": [
    {
     "name": "stdout",
     "output_type": "stream",
     "text": [
      "(160, 64, 750)\n"
     ]
    },
    {
     "data": {
      "text/html": [
       "<table class=\"table table-hover table-striped table-sm table-responsive small\">\n",
       "    <tr>\n",
       "        <th>Number of events</th>\n",
       "        <td>160</td>\n",
       "    </tr>\n",
       "    <tr>\n",
       "        <th>Events</th>\n",
       "        \n",
       "        <td>10.0: 4<br/>10.2: 4<br/>10.4: 4<br/>10.6: 4<br/>10.8: 4<br/>11.0: 4<br/>11.2: 4<br/>11.4: 4<br/>11.6: 4<br/>11.8: 4<br/>12.0: 4<br/>12.2: 4<br/>12.4: 4<br/>12.6: 4<br/>12.8: 4<br/>13.0: 4<br/>13.2: 4<br/>13.4: 4<br/>13.6: 4<br/>13.8: 4<br/>14.0: 4<br/>14.2: 4<br/>14.4: 4<br/>14.6: 4<br/>14.8: 4<br/>15.0: 4<br/>15.2: 4<br/>15.4: 4<br/>15.6: 4<br/>15.8: 4<br/>8.0: 4<br/>8.2: 4<br/>8.4: 4<br/>8.6: 4<br/>8.8: 4<br/>9.0: 4<br/>9.2: 4<br/>9.4: 4<br/>9.6: 4<br/>9.8: 4</td>\n",
       "        \n",
       "    </tr>\n",
       "    <tr>\n",
       "        <th>Time range</th>\n",
       "        <td>0.000 – 2.996 s</td>\n",
       "    </tr>\n",
       "    <tr>\n",
       "        <th>Baseline</th>\n",
       "        <td>off</td>\n",
       "    </tr>\n",
       "</table>"
      ],
      "text/plain": [
       "<EpochsFIF |  160 events (all good), 0 – 2.996 s, baseline off, ~58.7 MB, data loaded,\n",
       " '8.0': 4\n",
       " '8.2': 4\n",
       " '8.4': 4\n",
       " '8.6': 4\n",
       " '8.8': 4\n",
       " '9.0': 4\n",
       " '9.2': 4\n",
       " '9.4': 4\n",
       " '9.6': 4\n",
       " '9.8': 4\n",
       " and 30 more events ...>"
      ]
     },
     "execution_count": 97,
     "metadata": {},
     "output_type": "execute_result"
    }
   ],
   "source": [
    "# TAREFA 2\n",
    "\n",
    "\n",
    "# entendimento dos dados\n",
    "print(data.get_data().shape)\n",
    "data"
   ]
  },
  {
   "cell_type": "markdown",
   "metadata": {},
   "source": [
    "#### Lista apenas para orientação do nome dos canais\n",
    "\n",
    "Fp1: eletrodo fronto-polar esquerdo\n",
    "\n",
    "Fp2: eletrodo fronto-polar direito\n",
    "\n",
    "F3: eletrodo frontal esquerdo\n",
    "\n",
    "F4: eletrodo frontal direito\n",
    "\n",
    "Fpz: eletrodo fronto-polar da linha média\n",
    "\n",
    "Fz: eletrodo frontal da linha há média\n",
    "\n",
    "C3: eletrodo central esquerdo\n",
    "\n",
    "C4: eletrodo central direito\n",
    "\n",
    "Cz: eletrodo central da linha média\n",
    "\n",
    "P3: eletrodo parietal esquerdo\n",
    "\n",
    "P4: eletrodo parietal direito\n",
    "\n",
    "Pz: eletrodo parietal da linha média\n",
    "\n",
    "O1: eletrodo occipital esquerdo\n",
    "\n",
    "O2: eletrodo occipital direito\n",
    "\n",
    "Oz: eletrodo occipital da linha média\n",
    "\n",
    "F7: eletrodo temporal anterior esquerdo\n",
    "\n",
    "F8: eletrodo temporal anterior direito\n",
    "\n",
    "T3: eletrodo temporal médio esquerdo\n",
    "\n",
    "T4: eletrodo temporal médio direito\n",
    "\n",
    "T5: eletrodo temporal posterior esquerdo\n",
    "\n",
    "T6: eletrodo temporal posterior direito.\n"
   ]
  },
  {
   "cell_type": "code",
   "execution_count": 98,
   "metadata": {},
   "outputs": [
    {
     "name": "stdout",
     "output_type": "stream",
     "text": [
      "['FP1', 'FPZ', 'FP2', 'AF3', 'AF4', 'F7', 'F5', 'F3', 'F1', 'FZ', 'F2', 'F4', 'F6', 'F8', 'FT7', 'FC5', 'FC3', 'FC1', 'FCZ', 'FC2', 'FC4', 'FC6', 'FT8', 'T7', 'C5', 'C3', 'C1', 'CZ', 'C2', 'C4', 'C6', 'T8', 'M1', 'TP7', 'CP5', 'CP3', 'CP1', 'CPZ', 'CP2', 'CP4', 'CP6', 'TP8', 'M2', 'P7', 'P5', 'P3', 'P1', 'PZ', 'P2', 'P4', 'P6', 'P8', 'PO7', 'PO5', 'PO3', 'POZ', 'PO4', 'PO6', 'PO8', 'CB1', 'O1', 'OZ', 'O2', 'CB2']\n"
     ]
    }
   ],
   "source": [
    "channels = list(np.load(\"../../datasets/beta/channels_beta.npy\"))\n",
    "print(channels)"
   ]
  },
  {
   "cell_type": "code",
   "execution_count": 99,
   "metadata": {},
   "outputs": [
    {
     "name": "stdout",
     "output_type": "stream",
     "text": [
      "Reading c:\\Users\\vinny\\OneDrive\\Documentos\\UTFPR\\Reconhecimento de Padroes\\tutoriais\\SSVEP\\src\\beta\\..\\..\\datasets\\beta\\beta-epo.fif ...\n",
      "Isotrak not found\n",
      "    Found the data of interest:\n",
      "        t =       0.00 ...    2996.00 ms\n",
      "        0 CTF compensation matrices available\n",
      "Not setting metadata\n",
      "160 matching events found\n",
      "No baseline correction applied\n",
      "0 projection items activated\n",
      "(160, 7, 750)\n",
      "Possíveis alvos: [8.0, 8.2, 8.4, 8.6, 8.8, 9.0, 9.2, 9.4, 9.6, 9.8, 10.0, 10.2, 10.4, 10.6, 10.8, 11.0, 11.2, 11.4, 11.6, 11.8, 12.0, 12.2, 12.4, 12.6, 12.8, 13.0, 13.2, 13.4, 13.6, 13.8, 14.0, 14.2, 14.4, 14.6, 14.8, 15.0, 15.2, 15.4, 15.6, 15.8]\n"
     ]
    }
   ],
   "source": [
    "# TAREFA 3\n",
    "import matplotlib.pyplot as plt\n",
    "\n",
    "data = mne.read_epochs(\"../../datasets/beta/beta-epo.fif\")\n",
    "channelList = ['T7', 'T8', 'O1', 'O2', 'OZ', 'FZ', 'PZ' ]\n",
    "rest = [item for item in channels if item not in channelList]\n",
    "\n",
    "data.drop_channels(rest)\n",
    "print(data.get_data().shape)\n",
    "\n",
    "\n",
    "targets = [float(item) for item in data.event_id.keys()]\n",
    "print(\"Possíveis alvos:\", targets)\n",
    "\n",
    "hits = 0\n",
    "threshold = 0.35\n",
    "\n",
    "for i in range(len(data)):\n",
    "    dict_y = {str(value): index  for index, value in enumerate(targets)}\n",
    "\n",
    "    for target in targets:\n",
    "        fmin = target - threshold\n",
    "        fmax = target + threshold\n",
    "        sample = (data[i].compute_psd(method='multitaper', fmin=fmin,\n",
    "                                          fmax=fmax, verbose=False))\n",
    "        values = np.array((sample)[0][0])\n",
    "\n",
    "        values_avg = np.median(values)\n",
    "        dict_y[str(target)] = values_avg\n",
    "\n",
    "    # features.append(sample)\n",
    "    target_frequency = max(dict_y, key=dict_y.get)\n",
    "    if float(target_frequency) == float(list(data[i].event_id)[0]):\n",
    "        hits += 1\n",
    "\n",
    "# X = np.ndarray(features)\n",
    "# print(\"Formato dos dados calculados:\", X.shape)"
   ]
  },
  {
   "cell_type": "code",
   "execution_count": 100,
   "metadata": {},
   "outputs": [
    {
     "name": "stdout",
     "output_type": "stream",
     "text": [
      "\n",
      "Porcentagem de acerto: 17.50%\n"
     ]
    }
   ],
   "source": [
    "labels = np.load(\"../../datasets/beta/labels_beta.npy\")\n",
    "\n",
    "acc = 100 * hits / len(labels)\n",
    "print(f'\\nPorcentagem de acerto: {acc:.2f}%')\n",
    "# hits, len(labels)"
   ]
  }
 ],
 "metadata": {
  "kernelspec": {
   "display_name": "venv",
   "language": "python",
   "name": "python3"
  },
  "language_info": {
   "codemirror_mode": {
    "name": "ipython",
    "version": 3
   },
   "file_extension": ".py",
   "mimetype": "text/x-python",
   "name": "python",
   "nbconvert_exporter": "python",
   "pygments_lexer": "ipython3",
   "version": "3.10.7"
  },
  "orig_nbformat": 4
 },
 "nbformat": 4,
 "nbformat_minor": 2
}
