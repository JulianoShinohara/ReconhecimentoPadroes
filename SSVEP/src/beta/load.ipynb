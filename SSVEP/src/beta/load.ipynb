{
 "cells": [

  {
   "cell_type": "code",
   "execution_count": 14,
   "metadata": {},
   "outputs": [],
   "source": [
    "from scipy.io import loadmat\n",
    "import numpy as np"
   ]
  },
  {
   "cell_type": "markdown",
   "metadata": {},
   "source": [
    "### Seleção de características do dataset\n",
    "\n",
    "O bloco a seguir é responsável por carregar todas informações necessárias do dataset S7.mat\n"
   ]
  },
  {
   "cell_type": "code",
   "execution_count": 15,
   "metadata": {},
   "outputs": [
    {
     "data": {
      "text/plain": [
       "(64,)"
      ]
     },
     "execution_count": 15,
     "metadata": {},
     "output_type": "execute_result"
    }
   ],
   "source": [
    "data = loadmat(f\"../../datasets/beta/S7.mat\")\n",
    "dados = data['data'][0][0][0]\n",
    "label = data['data'][0][0][1][0][0][4][0]\n",
    "\n",
    "# dados.shape, label.shape\n",
    "data['data'][0][0][1][0][0][3][0][3][0]\n",
    "chan = data['data'][0][0][1][0][0][3]\n",
    "\n",
    "channels = []\n",
    "\n",
    "for i in range(len(chan)):\n",
    "    channels.append(chan[i][3][0])\n",
    "\n",
    "channels = np.array(channels)\n",
    "channels.shape\n",
    "\n",
    "# [0][0][0][3][0]"
   ]
  },
 {
   "cell_type": "markdown",
   "metadata": {},
   "source": [
    "Para armazer as melhores informações do dataset, é realiza o reshape, que permite alterar a forma do array sem modificar os dados contidos. Isso faz com que seja possivel resolver os erros encontrados.\n",
    "\n",
    "E sequencia armazenando as informações de acordo com as informações adquirias.\n"
   ]
  },
  {
   "cell_type": "code",
   "execution_count": 16,
   "metadata": {},
   "outputs": [],
   "source": [
    "data_reshape = np.reshape(dados, (64, 750, 160))\n",
    "data_reshape = np.swapaxes(data_reshape, 2, 0)\n",
    "data_reshape = np.swapaxes(data_reshape, 2, 1)\n",
    "\n",
    "labelsTransposed = np.array([np.transpose(data) for data in label]*4)"
   ]
  },
  {
   "cell_type": "code",
   "execution_count": 17,
   "metadata": {},
   "outputs": [],
   "source": [
    "np.save(\"../../datasets/beta/data_beta.npy\", data_reshape)\n",
    "np.save(\"../../datasets/beta/labels_beta.npy\", label)\n",
    "np.save(\"../../datasets/beta/labels_beta2.npy\", labelsTransposed)\n",
    "np.save(\"../../datasets/beta/channels_beta.npy\", channels)"
   ]
  }
 ],
 "metadata": {
  "kernelspec": {
   "display_name": "Python 3",
   "language": "python",
   "name": "python3"
  },
  "language_info": {
   "codemirror_mode": {
    "name": "ipython",
    "version": 3
   },
   "file_extension": ".py",
   "mimetype": "text/x-python",
   "name": "python",
   "nbconvert_exporter": "python",
   "pygments_lexer": "ipython3",
   "version": "3.10.7"
  },
  "orig_nbformat": 4
 },
 "nbformat": 4,
 "nbformat_minor": 2
}
