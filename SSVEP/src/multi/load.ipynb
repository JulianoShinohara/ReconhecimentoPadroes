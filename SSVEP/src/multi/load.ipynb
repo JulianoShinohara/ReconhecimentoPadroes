{
 "cells": [
  {
   "cell_type": "code",
   "execution_count": 1,
   "metadata": {},
   "outputs": [],
   "source": [
    "# imports\n",
    "\n",
    "from scipy.io import loadmat\n",
    "import numpy as np"
   ]
  },
  {
   "cell_type": "markdown",
   "metadata": {},
   "source": [
    "# Pré-carregamento\n",
    "\n",
    "O bloco a seguir é responsável por carregar todos os dados presentes em cada um dos datasets para a variável"
   ]
  },
  {
   "cell_type": "code",
   "execution_count": 2,
   "metadata": {},
   "outputs": [],
   "source": [
    "# pré-carregamento\n",
    "\n",
    "avi_data = list()\n",
    "for i in range(1,5):\n",
    "    avi_data.append(loadmat(f\"../datasets/avi/multi/Sub{i}_1_multitarget.mat\"))\n",
    "    avi_data.append(loadmat(f\"../datasets/avi/multi/Sub{i}_2_multitarget.mat\"))"
   ]
  },
  {
   "cell_type": "markdown",
   "metadata": {},
   "source": [
    "### Visualização dos dados\n",
    "\n",
    "Essa visualização é apenas para melhor compreensão dos dados que serão utilizados no futuro"
   ]
  },
  {
   "cell_type": "code",
   "execution_count": 3,
   "metadata": {},
   "outputs": [
    {
     "name": "stdout",
     "output_type": "stream",
     "text": [
      "Valores que não serão uteis:\n",
      "[[512]]\n",
      "['1.7 cm']\n",
      "['60 cm']\n",
      "['LCD Monitor, Benq XL2420T']\n",
      "['Oz']\n",
      "['M']\n",
      "['32']\n",
      "\n",
      "Valores que serão uteis:\n",
      "[[-7.01667796e-06 -7.31038426e-06 -8.57892064e-06 ...  1.64608464e-05\n",
      "   1.12859943e-05 -5.29669160e-06]\n",
      " [-6.67584300e-06 -7.31422551e-06 -7.62318177e-06 ...  1.63658460e-05\n",
      "   1.00137386e-05 -4.87175521e-06]\n",
      " [-6.14027977e-06 -6.84096267e-06 -6.86276917e-06 ...  1.60672698e-05\n",
      "   8.45984869e-06 -4.22229687e-06]\n",
      " ...\n",
      " [ 2.28551994e-06  3.31084584e-06 -5.42551106e-06 ...  7.33828983e-06\n",
      "   5.71450937e-06 -2.08970050e-06]\n",
      " [ 2.72940997e-06  3.40825204e-06 -4.40975055e-06 ...  6.20197625e-06\n",
      "   8.79591880e-06 -2.35789207e-06]\n",
      " [ 3.09955794e-06  3.61427783e-06 -3.06295033e-06 ...  4.86804811e-06\n",
      "   1.13561446e-05 -2.99241083e-06]]\n",
      "[7.5 8.2 7.  8.2 6.  7.5 6.  6.  8.2 8.2]\n"
     ]
    }
   ],
   "source": [
    "print(\"Valores que não serão uteis:\")\n",
    "[print(avi_data[0]['Data'][0][0][i]) for i in range(7)]\n",
    "print()\n",
    "print(\"Valores que serão uteis:\")\n",
    "print(avi_data[0]['Data'][0][0][7])\n",
    "print(avi_data[0]['Data'][0][0][8][0])"
   ]
  },
  {
   "cell_type": "markdown",
   "metadata": {},
   "source": [
    "# Extração dos dados\n",
    "\n",
    "O seguinte bloco é responsável por obter os dados e suas labels"
   ]
  },
  {
   "cell_type": "code",
   "execution_count": 4,
   "metadata": {},
   "outputs": [
    {
     "name": "stdout",
     "output_type": "stream",
     "text": [
      "Divisão dos dados:\n",
      "(8192, 10)\n",
      "(8192, 10)\n",
      "(8192, 10)\n",
      "(8192, 10)\n",
      "(8192, 10)\n",
      "(8192, 10)\n",
      "(8192, 10)\n",
      "(8192, 10)\n",
      "\n",
      "Divisão dos rótulos (sequências):\n",
      "[7.5 8.2 7.  8.2 6.  7.5 6.  6.  8.2 8.2]\n",
      "[9.3 6.  6.  8.2 6.  6.5 7.5 7.  6.  6. ]\n",
      "[7.5 8.2 7.  8.2 6.  7.5 6.  6.  8.2 8.2]\n",
      "[9.3 6.  6.  8.2 6.  6.5 7.5 7.  6.  6. ]\n",
      "[7.5 8.2 7.  8.2 6.  7.5 6.  6.  8.2 8.2]\n",
      "[9.3 6.  6.  8.2 6.  6.5 7.5 7.  6.  6. ]\n",
      "[7.5 8.2 7.  8.2 6.  7.5 6.  6.  8.2 8.2]\n",
      "[9.3 6.  6.  8.2 6.  6.5 7.5 7.  6.  6. ]\n"
     ]
    }
   ],
   "source": [
    "# extração direta dos dados\n",
    "\n",
    "X = [d['Data'][0][0][7] for d in avi_data]\n",
    "y = [d['Data'][0][0][8][0] for d in avi_data]\n",
    "\n",
    "print(\"Divisão dos dados:\")\n",
    "for data in X:\n",
    "    print(data.shape)\n",
    "\n",
    "print(\"\\nDivisão dos rótulos (sequências):\")\n",
    "for data in y:\n",
    "    print(data)"
   ]
  },
  {
   "cell_type": "markdown",
   "metadata": {},
   "source": [
    "### Transformação dos dados\n",
    "\n",
    "Após obter todos os dados, eles serão transformados para uma forma melhor de trabalha-los"
   ]
  },
  {
   "cell_type": "code",
   "execution_count": 5,
   "metadata": {},
   "outputs": [
    {
     "name": "stdout",
     "output_type": "stream",
     "text": [
      "(8, 10, 8192)\n"
     ]
    },
    {
     "data": {
      "text/plain": [
       "((80, 8192), (80,))"
      ]
     },
     "execution_count": 5,
     "metadata": {},
     "output_type": "execute_result"
    }
   ],
   "source": [
    "X_std = np.array([np.transpose(data) for data in X])\n",
    "X_std = X_std.reshape(X_std.shape[0]*X_std.shape[1], X_std.shape[2])\n",
    "y_std = np.array([np.transpose(data) for data in y])\n",
    "y_std = y_std.reshape(1, y_std.shape[0]*y_std.shape[1])[0]\n",
    "\n",
    "X_std.shape, y_std.shape"
   ]
  },
  {
   "cell_type": "markdown",
   "metadata": {},
   "source": [
    "### Salvar dados carregados\n",
    "\n",
    "Para que esse processo não precise ser repetido, os dados serão salvos no formato .npy, que é correspondente a um numpyArray"
   ]
  },
  {
   "cell_type": "code",
   "execution_count": 6,
   "metadata": {},
   "outputs": [],
   "source": [
    "np.save(\"../datasets/avi/multi/data_multi.npy\", X_std)\n",
    "np.save(\"../datasets/avi/multi/labels_multi.npy\", y_std)"
   ]
  }
 ],
 "metadata": {
  "kernelspec": {
   "display_name": "Python 3 (ipykernel)",
   "language": "python",
   "name": "python3"
  },
  "language_info": {
   "codemirror_mode": {
    "name": "ipython",
    "version": 3
   },
   "file_extension": ".py",
   "mimetype": "text/x-python",
   "name": "python",
   "nbconvert_exporter": "python",
   "pygments_lexer": "ipython3",
   "version": "3.10.7"
  }
 },
 "nbformat": 4,
 "nbformat_minor": 4
}
