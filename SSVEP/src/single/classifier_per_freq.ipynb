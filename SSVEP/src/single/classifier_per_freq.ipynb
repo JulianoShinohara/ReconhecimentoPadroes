{
 "cells": [
  {
   "cell_type": "markdown",
   "metadata": {},
   "source": [
    "## Classificação por isolamento de frequência\n",
    "\n",
    "Neste notebook será realizado um exemplo de classificação, isolando todas as frequências estimuladas no conjunto de dados `AVI SSVEP Single Target`. "
   ]
  },
  {
   "cell_type": "markdown",
   "metadata": {},
   "source": [
    "### Passos para a realização da classificação:\n",
    "\n",
    "1. **Carrega** o arquivo `fif` (`mne.EpochsArray`) dos dados **filtrados**;\n",
    "2. **Determine o limiar** para isolar cada uma das frequências estimuladas. Por exemplo, a faixa de frequência para o estímulo de 6.5 Hz irá resultar em pontos (`PSD`) que irão variar de 6.3 à 6.7 Hz, caso o limiar seja de 0.2 Hz;\n",
    "3. **Obter a \"energia\"** do sinal por meio do cálculo `compute_psd` para cada uma das faixas de frequência que podem ser estimuladas. Por exemplo:\n",
    "    - Obtenha todas as frequências estimuladas. Ex: 6, 6.5, 7, 7.5, 8.2 e 9.3;\n",
    "    - Obtenha o valor mínimo e o máximo para cada frequência utilizando limiar. Ex: (5.8, 6.2), (6.3, 6.7), ...\n",
    "    - Aplique o `compute_psd` para cada tupla (min, max), por meio dos parâmetros `fmin` e `fmax` do mesmo método.\n",
    "4. Com as listas de pontos isoladas e computadas (`PSD`) para cada amostra, aplique um cálculo de característica adequada. Características manuais interessantes para este exemplo podem ser `max_value`, `average` ou `median`. No fim deste passo iremos obter um **vetor de características**;\n",
    "5. Por fim, realize a **classificação**, que será um **cálculo de voto** simples (maior valor é provavelmente o a frequência evocada).\n",
    "\n",
    "A seguir, um exemplo desta classificação com os dados `single target` de `AVI dataset`:"
   ]
  },
  {
   "cell_type": "code",
   "execution_count": 1,
   "metadata": {},
   "outputs": [
    {
     "name": "stderr",
     "output_type": "stream",
     "text": [
      "C:\\Users\\vinny\\AppData\\Local\\Temp\\ipykernel_19900\\2621150035.py:4: RuntimeWarning: This filename (../../datasets/avi/single/mne_data.fif) does not conform to MNE naming conventions. All epochs files should end with -epo.fif, -epo.fif.gz, _epo.fif or _epo.fif.gz\n",
      "  data = mne.read_epochs(\"../../datasets/avi/single/mne_data.fif\")\n"
     ]
    },
    {
     "ename": "FileNotFoundError",
     "evalue": "File does not exist: \"c:\\Users\\vinny\\OneDrive\\Documentos\\UTFPR\\Reconhecimento de Padroes\\tutoriais\\SSVEP\\src\\single\\..\\..\\datasets\\avi\\single\\mne_data.fif\"",
     "output_type": "error",
     "traceback": [
      "\u001b[1;31m---------------------------------------------------------------------------\u001b[0m",
      "\u001b[1;31mFileNotFoundError\u001b[0m                         Traceback (most recent call last)",
      "\u001b[1;32mc:\\Users\\vinny\\OneDrive\\Documentos\\UTFPR\\Reconhecimento de Padroes\\tutoriais\\SSVEP\\src\\single\\classifier_per_freq.ipynb Cell 3\u001b[0m line \u001b[0;36m4\n\u001b[0;32m      <a href='vscode-notebook-cell:/c%3A/Users/vinny/OneDrive/Documentos/UTFPR/Reconhecimento%20de%20Padroes/tutoriais/SSVEP/src/single/classifier_per_freq.ipynb#W2sZmlsZQ%3D%3D?line=0'>1</a>\u001b[0m \u001b[39mimport\u001b[39;00m \u001b[39mmne\u001b[39;00m\n\u001b[0;32m      <a href='vscode-notebook-cell:/c%3A/Users/vinny/OneDrive/Documentos/UTFPR/Reconhecimento%20de%20Padroes/tutoriais/SSVEP/src/single/classifier_per_freq.ipynb#W2sZmlsZQ%3D%3D?line=2'>3</a>\u001b[0m \u001b[39m# tarefa 1\u001b[39;00m\n\u001b[1;32m----> <a href='vscode-notebook-cell:/c%3A/Users/vinny/OneDrive/Documentos/UTFPR/Reconhecimento%20de%20Padroes/tutoriais/SSVEP/src/single/classifier_per_freq.ipynb#W2sZmlsZQ%3D%3D?line=3'>4</a>\u001b[0m data \u001b[39m=\u001b[39m mne\u001b[39m.\u001b[39;49mread_epochs(\u001b[39m\"\u001b[39;49m\u001b[39m../../datasets/avi/single/mne_data.fif\u001b[39;49m\u001b[39m\"\u001b[39;49m)\n",
      "File \u001b[1;32m<decorator-gen-290>:12\u001b[0m, in \u001b[0;36mread_epochs\u001b[1;34m(fname, proj, preload, verbose)\u001b[0m\n",
      "File \u001b[1;32mc:\\Users\\vinny\\AppData\\Local\\Programs\\Python\\Python310\\lib\\site-packages\\mne\\epochs.py:3722\u001b[0m, in \u001b[0;36mread_epochs\u001b[1;34m(fname, proj, preload, verbose)\u001b[0m\n\u001b[0;32m   3704\u001b[0m \u001b[39m@verbose\u001b[39m\n\u001b[0;32m   3705\u001b[0m \u001b[39mdef\u001b[39;00m \u001b[39mread_epochs\u001b[39m(fname, proj\u001b[39m=\u001b[39m\u001b[39mTrue\u001b[39;00m, preload\u001b[39m=\u001b[39m\u001b[39mTrue\u001b[39;00m, verbose\u001b[39m=\u001b[39m\u001b[39mNone\u001b[39;00m):\n\u001b[0;32m   3706\u001b[0m     \u001b[39m\"\"\"Read epochs from a fif file.\u001b[39;00m\n\u001b[0;32m   3707\u001b[0m \n\u001b[0;32m   3708\u001b[0m \u001b[39m    Parameters\u001b[39;00m\n\u001b[1;32m   (...)\u001b[0m\n\u001b[0;32m   3720\u001b[0m \u001b[39m        The epochs.\u001b[39;00m\n\u001b[0;32m   3721\u001b[0m \u001b[39m    \"\"\"\u001b[39;00m\n\u001b[1;32m-> 3722\u001b[0m     \u001b[39mreturn\u001b[39;00m EpochsFIF(fname, proj, preload, verbose)\n",
      "File \u001b[1;32m<decorator-gen-291>:12\u001b[0m, in \u001b[0;36m__init__\u001b[1;34m(self, fname, proj, preload, verbose)\u001b[0m\n",
      "File \u001b[1;32mc:\\Users\\vinny\\AppData\\Local\\Programs\\Python\\Python310\\lib\\site-packages\\mne\\epochs.py:3771\u001b[0m, in \u001b[0;36mEpochsFIF.__init__\u001b[1;34m(self, fname, proj, preload, verbose)\u001b[0m\n\u001b[0;32m   3765\u001b[0m \u001b[39mif\u001b[39;00m _path_like(fname):\n\u001b[0;32m   3766\u001b[0m     check_fname(\n\u001b[0;32m   3767\u001b[0m         fname\u001b[39m=\u001b[39mfname,\n\u001b[0;32m   3768\u001b[0m         filetype\u001b[39m=\u001b[39m\u001b[39m\"\u001b[39m\u001b[39mepochs\u001b[39m\u001b[39m\"\u001b[39m,\n\u001b[0;32m   3769\u001b[0m         endings\u001b[39m=\u001b[39m(\u001b[39m\"\u001b[39m\u001b[39m-epo.fif\u001b[39m\u001b[39m\"\u001b[39m, \u001b[39m\"\u001b[39m\u001b[39m-epo.fif.gz\u001b[39m\u001b[39m\"\u001b[39m, \u001b[39m\"\u001b[39m\u001b[39m_epo.fif\u001b[39m\u001b[39m\"\u001b[39m, \u001b[39m\"\u001b[39m\u001b[39m_epo.fif.gz\u001b[39m\u001b[39m\"\u001b[39m),\n\u001b[0;32m   3770\u001b[0m     )\n\u001b[1;32m-> 3771\u001b[0m     fname \u001b[39m=\u001b[39m \u001b[39mstr\u001b[39m(_check_fname(fname\u001b[39m=\u001b[39;49mfname, must_exist\u001b[39m=\u001b[39;49m\u001b[39mTrue\u001b[39;49;00m, overwrite\u001b[39m=\u001b[39;49m\u001b[39m\"\u001b[39;49m\u001b[39mread\u001b[39;49m\u001b[39m\"\u001b[39;49m))\n\u001b[0;32m   3772\u001b[0m \u001b[39melif\u001b[39;00m \u001b[39mnot\u001b[39;00m preload:\n\u001b[0;32m   3773\u001b[0m     \u001b[39mraise\u001b[39;00m \u001b[39mValueError\u001b[39;00m(\u001b[39m\"\u001b[39m\u001b[39mpreload must be used with file-like objects\u001b[39m\u001b[39m\"\u001b[39m)\n",
      "File \u001b[1;32m<decorator-gen-0>:12\u001b[0m, in \u001b[0;36m_check_fname\u001b[1;34m(fname, overwrite, must_exist, name, need_dir, verbose)\u001b[0m\n",
      "File \u001b[1;32mc:\\Users\\vinny\\AppData\\Local\\Programs\\Python\\Python310\\lib\\site-packages\\mne\\utils\\check.py:261\u001b[0m, in \u001b[0;36m_check_fname\u001b[1;34m(fname, overwrite, must_exist, name, need_dir, verbose)\u001b[0m\n\u001b[0;32m    259\u001b[0m             \u001b[39mraise\u001b[39;00m \u001b[39mPermissionError\u001b[39;00m(\u001b[39mf\u001b[39m\u001b[39m\"\u001b[39m\u001b[39m{\u001b[39;00mname\u001b[39m}\u001b[39;00m\u001b[39m does not have read permissions: \u001b[39m\u001b[39m{\u001b[39;00mfname\u001b[39m}\u001b[39;00m\u001b[39m\"\u001b[39m)\n\u001b[0;32m    260\u001b[0m \u001b[39melif\u001b[39;00m must_exist:\n\u001b[1;32m--> 261\u001b[0m     \u001b[39mraise\u001b[39;00m \u001b[39mFileNotFoundError\u001b[39;00m(\u001b[39mf\u001b[39m\u001b[39m'\u001b[39m\u001b[39m{\u001b[39;00mname\u001b[39m}\u001b[39;00m\u001b[39m does not exist: \u001b[39m\u001b[39m\"\u001b[39m\u001b[39m{\u001b[39;00mfname\u001b[39m}\u001b[39;00m\u001b[39m\"\u001b[39m\u001b[39m'\u001b[39m)\n\u001b[0;32m    263\u001b[0m \u001b[39mreturn\u001b[39;00m fname\n",
      "\u001b[1;31mFileNotFoundError\u001b[0m: File does not exist: \"c:\\Users\\vinny\\OneDrive\\Documentos\\UTFPR\\Reconhecimento de Padroes\\tutoriais\\SSVEP\\src\\single\\..\\..\\datasets\\avi\\single\\mne_data.fif\""
     ]
    }
   ],
   "source": [
    "import mne\n",
    "\n",
    "# tarefa 1\n",
    "data = mne.read_epochs(\"../../datasets/avi/single/mne_data.fif\")"
   ]
  },
  {
   "cell_type": "code",
   "execution_count": null,
   "metadata": {},
   "outputs": [
    {
     "name": "stdout",
     "output_type": "stream",
     "text": [
      "(84, 1, 15360)\n"
     ]
    },
    {
     "data": {
      "text/html": [
       "<table class=\"table table-hover table-striped table-sm table-responsive small\">\n",
       "    <tr>\n",
       "        <th>Number of events</th>\n",
       "        <td>84</td>\n",
       "    </tr>\n",
       "    <tr>\n",
       "        <th>Events</th>\n",
       "        \n",
       "        <td>10: 12<br/>6: 12<br/>6.5: 12<br/>7: 12<br/>7.5: 12<br/>8.2: 12<br/>9.3: 12</td>\n",
       "        \n",
       "    </tr>\n",
       "    <tr>\n",
       "        <th>Time range</th>\n",
       "        <td>0.000 – 29.998 s</td>\n",
       "    </tr>\n",
       "    <tr>\n",
       "        <th>Baseline</th>\n",
       "        <td>off</td>\n",
       "    </tr>\n",
       "</table>"
      ],
      "text/plain": [
       "<EpochsFIF |  84 events (all good), 0 – 29.998 s, baseline off, ~9.9 MB, data loaded,\n",
       " '6': 12\n",
       " '6.5': 12\n",
       " '7': 12\n",
       " '7.5': 12\n",
       " '8.2': 12\n",
       " '9.3': 12\n",
       " '10': 12>"
      ]
     },
     "execution_count": 2,
     "metadata": {},
     "output_type": "execute_result"
    }
   ],
   "source": [
    "# TAREFA 2\n",
    "threshold = 0.25\n",
    "\n",
    "# entendimento dos dados\n",
    "print(data.get_data().shape)\n",
    "data"
   ]
  },
  {
   "cell_type": "code",
   "execution_count": null,
   "metadata": {},
   "outputs": [
    {
     "name": "stdout",
     "output_type": "stream",
     "text": [
      "Possíveis alvos: [6.0, 6.5, 7.0, 7.5, 8.2, 9.3, 10.0]\n",
      "Formato dos dados calculados: (84, 7, 1, 1, 15)\n"
     ]
    }
   ],
   "source": [
    "# TAREFA 3\n",
    "\n",
    "import numpy as np\n",
    "\n",
    "targets = [float(item) for item in data.event_id.keys()]\n",
    "print(\"Possíveis alvos:\", targets)\n",
    "\n",
    "features = list()\n",
    "for i in range(len(data)):\n",
    "    sample = list()\n",
    "    for target in targets:\n",
    "        fmin = target - threshold\n",
    "        fmax = target + threshold\n",
    "        sample.append(data[i].compute_psd(method='multitaper', fmin=fmin,\n",
    "                                          fmax=fmax, verbose=False, n_jobs=8))\n",
    "    features.append(sample)\n",
    "\n",
    "X = np.array(features)\n",
    "print(\"Formato dos dados calculados:\", X.shape)"
   ]
  },
  {
   "cell_type": "code",
   "execution_count": null,
   "metadata": {},
   "outputs": [
    {
     "name": "stdout",
     "output_type": "stream",
     "text": [
      "Formato padronizado dos dados com PSD calculado: (84, 7, 15)\n"
     ]
    }
   ],
   "source": [
    "# organizando os dados\n",
    "\n",
    "X = X.reshape(X.shape[0], X.shape[1], X.shape[-1])\n",
    "print(\"Formato padronizado dos dados com PSD calculado:\", X.shape)"
   ]
  },
  {
   "cell_type": "code",
   "execution_count": null,
   "metadata": {},
   "outputs": [
    {
     "data": {
      "text/plain": [
       "(84, 7)"
      ]
     },
     "execution_count": 5,
     "metadata": {},
     "output_type": "execute_result"
    }
   ],
   "source": [
    "# TAREFA 4\n",
    "\n",
    "# aplicando a característica de \"maior valor\"\n",
    "max_values = np.max(X, axis=-1)\n",
    "max_values.shape"
   ]
  },
  {
   "cell_type": "code",
   "execution_count": null,
   "metadata": {},
   "outputs": [
    {
     "name": "stdout",
     "output_type": "stream",
     "text": [
      "[10.  10.  10.   6.5  6.5  6.5  6.   6.   6.   7.5  7.5  7.5  7.   7.\n",
      "  7.   8.2  8.2  8.2  9.3  9.3  9.3 10.  10.  10.   6.5  6.5  6.5  6.\n",
      "  6.   6.   7.5  7.5  7.5  7.   7.   7.   8.2  8.2  8.2  9.3  9.3  9.3\n",
      " 10.  10.  10.   6.5  6.5  6.5  6.   6.   6.   7.5  7.5  7.5  7.   7.\n",
      "  7.   8.2  8.2  8.2  9.3  9.3  9.3 10.  10.  10.   6.5  6.5  6.5  6.\n",
      "  6.   6.   7.5  7.5  7.5  7.   7.   7.   8.2  8.2  8.2  9.3  9.3  9.3] (84,) [6.0, 6.5, 7.0, 7.5, 8.2, 9.3, 10.0]\n",
      "\n",
      "Porcentagem de acerto: 85.71%\n"
     ]
    }
   ],
   "source": [
    "# TAREFA 5\n",
    "\n",
    "y = np.load(\"datasets/avi/single/labels_formated.npy\")\n",
    "\n",
    "# entendimento dos dados\n",
    "print(y, y.shape, targets)\n",
    "\n",
    "# classificação pelo \"voto\" do maior valor\n",
    "i_max = max_values.argmax(axis=-1)\n",
    "hits = [1 for i in range(len(i_max)) if targets[i_max[i]] == y[i]]\n",
    "acc = 100 * sum(hits) / len(y)\n",
    "print(f'\\nPorcentagem de acerto: {acc:.2f}%')"
   ]
  }
 ],
 "metadata": {
  "kernelspec": {
   "display_name": "venv",
   "language": "python",
   "name": "python3"
  },
  "language_info": {
   "codemirror_mode": {
    "name": "ipython",
    "version": 3
   },
   "file_extension": ".py",
   "mimetype": "text/x-python",
   "name": "python",
   "nbconvert_exporter": "python",
   "pygments_lexer": "ipython3",
   "version": "3.10.7"
  },
  "orig_nbformat": 4
 },
 "nbformat": 4,
 "nbformat_minor": 2
}
