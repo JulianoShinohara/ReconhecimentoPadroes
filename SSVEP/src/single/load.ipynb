{
 "cells": [
  {
   "cell_type": "code",
   "execution_count": 1,
   "metadata": {},
   "outputs": [],
   "source": [
    "# imports\n",
    "\n",
    "from scipy.io import loadmat\n",
    "import numpy as np"
   ]
  },
  {
   "cell_type": "markdown",
   "metadata": {},
   "source": [
    "# Pré-carregamento\n",
    "\n",
    "O bloco a seguir é responsável por carregar todos os dados presentes em cada um dos datasets para a variável"
   ]
  },
  {
   "cell_type": "code",
   "execution_count": 2,
   "metadata": {},
   "outputs": [],
   "source": [
    "# pré-carregamento\n",
    "\n",
    "avi_data = list()\n",
    "for i in range(1,5):\n",
    "    avi_data.append(loadmat(f\"../datasets/avi/single/Sub{i}_singletarget.mat\"))\n",
    "    avi_data.append(loadmat(f\"../datasets/avi/single/Sub{i}_singletarget.mat\"))"
   ]
  },
  {
   "cell_type": "markdown",
   "metadata": {},
   "source": [
    "# Extração dos dados\n",
    "\n",
    "O seguinte bloco é responsável por obter os dados e suas labels"
   ]
  },
  {
   "cell_type": "code",
   "execution_count": 4,
   "metadata": {},
   "outputs": [
    {
     "name": "stdout",
     "output_type": "stream",
     "text": [
      "Divisão dos dados:\n",
      "(8192, 10)\n",
      "(8192, 10)\n",
      "(8192, 10)\n",
      "(8192, 10)\n",
      "(8192, 10)\n",
      "(8192, 10)\n",
      "(8192, 10)\n",
      "(8192, 10)\n",
      "\n",
      "Divisão dos rótulos (sequências):\n",
      "[7.5 8.2 7.  8.2 6.  7.5 6.  6.  8.2 8.2]\n",
      "[9.3 6.  6.  8.2 6.  6.5 7.5 7.  6.  6. ]\n",
      "[7.5 8.2 7.  8.2 6.  7.5 6.  6.  8.2 8.2]\n",
      "[9.3 6.  6.  8.2 6.  6.5 7.5 7.  6.  6. ]\n",
      "[7.5 8.2 7.  8.2 6.  7.5 6.  6.  8.2 8.2]\n",
      "[9.3 6.  6.  8.2 6.  6.5 7.5 7.  6.  6. ]\n",
      "[7.5 8.2 7.  8.2 6.  7.5 6.  6.  8.2 8.2]\n",
      "[9.3 6.  6.  8.2 6.  6.5 7.5 7.  6.  6. ]\n"
     ]
    }
   ],
   "source": [
    "# extração direta dos dados\n",
    "\n",
    "X = [d['Data'][0][0][1] for d in avi_data]\n",
    "y = [d['Data'][0][0][0] for d in avi_data]\n",
    "\n",
    "print(\"Divisão dos dados:\")\n",
    "for data in X:\n",
    "    print(data.shape)\n",
    "\n",
    "print(\"\\nDivisão dos rótulos (sequências):\")\n",
    "for data in y:\n",
    "    print(data)"
   ]
  },
  {
   "cell_type": "markdown",
   "metadata": {},
   "source": [
    "### Transformação dos dados\n",
    "\n",
    "Após obter todos os dados, eles serão transformados para uma forma melhor de trabalha-los"
   ]
  },
  {
   "cell_type": "code",
   "execution_count": 5,
   "metadata": {},
   "outputs": [
    {
     "name": "stdout",
     "output_type": "stream",
     "text": [
      "(8, 10, 8192)\n"
     ]
    },
    {
     "data": {
      "text/plain": [
       "((80, 8192), (80,))"
      ]
     },
     "execution_count": 5,
     "metadata": {},
     "output_type": "execute_result"
    }
   ],
   "source": [
    "X_std = np.array([np.transpose(data) for data in X])\n",
    "X_std = X_std.reshape(X_std.shape[0]*X_std.shape[1], X_std.shape[2])\n",
    "y_std = np.array([np.transpose(data) for data in y])\n",
    "y_std = y_std.reshape(1, y_std.shape[0]*y_std.shape[1])[0]\n",
    "\n",
    "X_std.shape, y_std.shape"
   ]
  },
  {
   "cell_type": "markdown",
   "metadata": {},
   "source": [
    "### Salvar dados carregados\n",
    "\n",
    "Para que esse processo não precise ser repetido, os dados serão salvos no formato .npy, que é correspondente a um numpyArray"
   ]
  },
  {
   "cell_type": "code",
   "execution_count": 6,
   "metadata": {},
   "outputs": [],
   "source": [
    "np.save(\"../datasets/avi/multi/data_multi.npy\", X_std)\n",
    "np.save(\"../datasets/avi/multi/labels_multi.npy\", y_std)"
   ]
  }
 ],
 "metadata": {
  "kernelspec": {
   "display_name": "Python 3 (ipykernel)",
   "language": "python",
   "name": "python3"
  },
  "language_info": {
   "codemirror_mode": {
    "name": "ipython",
    "version": 3
   },
   "file_extension": ".py",
   "mimetype": "text/x-python",
   "name": "python",
   "nbconvert_exporter": "python",
   "pygments_lexer": "ipython3",
   "version": "3.10.7"
  }
 },
 "nbformat": 4,
 "nbformat_minor": 4
}
