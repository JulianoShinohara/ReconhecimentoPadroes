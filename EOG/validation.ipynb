{
 "cells": [
  {
   "cell_type": "markdown",
   "metadata": {},
   "source": [
    "## Validação dos dados EOG\n",
    "\n",
    "Neste notebook está incluído os seguintes passos:\n",
    "- Aplicação de características;\n",
    "- Criação do vetor de características;\n",
    "- Normalização de dados;\n",
    "- Seleção de características;\n",
    "- Classificação dos dados."
   ]
  },
  {
   "cell_type": "markdown",
   "metadata": {},
   "source": [
    "Uma característica é uma propriedade individual mensurável ou característica de um fenômeno que está sendo observado. Em nosso caso de EOG, uma característica pode ser extraída no domínio do tempo ou no domínio da frequência. As características a seguir foram retiradas do artigo *EMG Feature Extraction for Tolerance of White Gaussian Noise* \\[1\\]."
   ]
  },
  {
   "cell_type": "markdown",
   "metadata": {},
   "source": [
    "#### Domínio do tempo\n",
    "\n",
    "1. Willison Amplitude (WAMP)\n",
    "\n",
    "    > $ \\sum_{i=1}^{N-1}f(|x_i - x_{i+1}|) $\n",
    "    \n",
    "    > $ f(x) = \\begin{cases} 1 & \\text{if } x \\gt threshold \\\\ 0 & \\text{otherwise} \\end{cases} $\n",
    "\n",
    "2. Variance of EMG (VAR)\n",
    "\n",
    "    > $ \\frac{1}{N-1}\\sum_{i=1}^{N}x_i^2 $\n",
    "\n",
    "3. Root Mean Square (RMS)\n",
    "\n",
    "    > $ \\sqrt{\\frac{1}{N}\\sum_{i=1}^{N}|x_i|^2} $\n",
    "\n",
    "4. Waveform Length (WL)\n",
    "    \n",
    "    > $ \\sum_{i=1}^{N-1}|x_{i+1} - x_i| $\n",
    "\n",
    "5. Zero Crossing (ZC)\n",
    "\n",
    "    > $ \\sum_{i=1}^{N}sgn(x_i) $\n",
    "    \n",
    "    > $ sgn(x) = \\begin{cases} 1 & \\text{if } x_i * x_{i+1} \\leq 0 \\\\ 0 & \\text{otherwise} \\end{cases} $"
   ]
  },
  {
   "cell_type": "markdown",
   "metadata": {},
   "source": [
    "#### Domínio da frequência\n",
    "\n",
    "1. Median Frequency (FMD)\n",
    "\n",
    "    > $ \\frac{1}{2}\\sum_{j=1}^{M}PSD_j $\n",
    "\n",
    "2. Mean Frequency (FMN)\n",
    "\n",
    "    > $\\sum_{j=1}^{M}f_j PSD_j / \\sum_{j=1}^{M}PSD_j$\n",
    "    \n",
    "    > $ f_j = j * SampleRate / 2 * M $\n",
    "\n",
    "3. Modified Median Frequency (MMDF)\n",
    "\n",
    "    > $ \\frac{1}{2}\\sum_{j=1}^{M}A_j $\n",
    "    \n",
    "    > $ A_j = Amplitude\\ do\\ espectro\\ j $\n",
    "\n",
    "4. Modified Frequency Mean (MMNF)\n",
    "\n",
    "    > $ \\sum_{j=1}^{M}f_jAj / \\sum_{j=1}^{M}Aj $\n",
    "\n",
    "\n",
    "\\[1\\] Phinyomark, Angkoon & Limsakul, Chusak & Phukpattaranont, P.. (2008). EMG Feature Extraction for Tolerance of White Gaussian Noise.\n",
    "[Disponível neste link](https://www.researchgate.net/publication/263765853_EMG_Feature_Extraction_for_Tolerance_of_White_Gaussian_Noise)\n",
    "\n",
    "**Tarefa 1**: Descrever as características de acordo com o artigo citado e outros disponíveis relacionados. O que está querendo \"ser visto\" em cada característica? Qual é o significado matemático de cada uma delas?"
   ]
  },
  {
   "cell_type": "markdown",
   "metadata": {},
   "source": [
    "#### Aplicando as características\n",
    "\n",
    "É necessário implementar as características, geralmente em formato de funções ou métodos, para que seja possível aplicar tais funções aos dados de entrada e obter as características resultantes. A seguir temos a implementação das características `VAR` & `RMS` (domínio do tempo) e `FDM` & `MMDF` (domínio da frequência)."
   ]
  },
  {
   "cell_type": "code",
   "execution_count": 14,
   "metadata": {},
   "outputs": [],
   "source": [
    "from math import prod\n",
    "import numpy as np\n",
    "\n",
    "# funções auxiliares\n",
    "def PSD(w):\n",
    "    ''' definição da função PSD para o sinal no domínio da frequência '''\n",
    "    return np.abs(w) ** 2\n",
    "\n",
    "\n",
    "# funções de extração de características\n",
    "\n",
    "def var(x):\n",
    "    return np.sum(x ** 2, axis=-1) / (np.prod(x.shape) - 1)\n",
    "\n",
    "def rms(x):\n",
    "    return np.sqrt(np.sum(np.abs(x) ** 2, axis=-1) / (np.prod(x.shape) - 1))\n",
    "\n",
    "def fmd(w):\n",
    "    return np.sum(PSD(w), axis=-1) / 2\n",
    "\n",
    "def mmdf(w):\n",
    "    return np.sum(np.abs(w), axis=-1) / 2\n",
    "\n",
    "def wl(x):\n",
    "    return np.sum(np.abs(np.diff(x, axis=-1)), axis=-1)\n",
    "\n",
    "def wamp(time, threshold):\n",
    "    return np.sum(np.abs(np.diff(time)) > threshold, axis=-1)"
   ]
  },
  {
   "cell_type": "markdown",
   "metadata": {},
   "source": [
    "**Tarefa 2**: Implemente todas as características apresentadas neste tutorial em formato de funções. Sinta-se livre também para buscar e implementar características além das apresentadas, citando as fontes de tais características.\n",
    "\n",
    "\n",
    "#### Vetor de características\n",
    "\n",
    "Ao final da implementação e seleção das características, deve ser escolhida as características e então teremos um vetor com todas elas implementadas.\n",
    "\n",
    "O vetor de características estará organizado da seguinte forma (exemplo p/ VAR, RMS, RDM e MMDF):\n",
    "\n",
    "| ID sample | VAR1 | RMS1 | FMD1 | MMDF1 | VAR2 | RMS2 | FMD2 | MMDF2 | Classe |\n",
    "|:---------:|:----:|:----:|:----:|:-----:|------|------|------|-------|:------:|\n",
    "|     1     |  v1  |  v1  |  v1  |   v1  | v1   | v1   | v1   | v1    |    0   |\n",
    "|     2     |  v2  |  v2  |  v2  |   v2  | v2   | v2   | v2   | v2    |    0   |\n",
    "|    ...    |  ... |  ... |  ... |  ...  | ...  | ...  | ...  | ...   |   ...  |\n",
    "|     N     |  vN  |  vN  |  vN  |   vN  | vN   | vN   | vN   | vN    |    7   |\n",
    "\n",
    "#### Implementação do vetor"
   ]
  },
  {
   "cell_type": "code",
   "execution_count": 34,
   "metadata": {},
   "outputs": [],
   "source": [
    "# carregando dados do \"prepare.ipynb\"\n",
    "\n",
    "time = np.load(\"dataset/segmented_data_t.npy\")\n",
    "freq = np.load(\"dataset/segmented_data_f.npy\")\n",
    "\n",
    "tempo_participante1 = np.load(\"dataset/p1_tempo.npy\")\n",
    "frequencia_participante1 = np.load(\"dataset/p1_frequencia.npy\")\n",
    "\n",
    "tempo_participante2 = np.load(\"dataset/p2_tempo.npy\")\n",
    "frequencia_participante2 = np.load(\"dataset/p2_frequencia.npy\")\n",
    "\n",
    "\n",
    "# aplicando características participante 1\n",
    "\n",
    "data_var_p_1 = var(tempo_participante1)\n",
    "data_rms_p_1 = rms(tempo_participante1)\n",
    "data_wl_p_1 = wl(tempo_participante1)\n",
    "data_wamp_p_1 = wamp(tempo_participante1, 0.01)\n",
    "\n",
    "data_fmd_p_1 = fmd(frequencia_participante1)\n",
    "data_mmdf_p_1 = mmdf(frequencia_participante1)\n",
    "\n",
    "# aplicando características participante 2\n",
    "\n",
    "data_var_p_2 = var(tempo_participante2)\n",
    "data_rms_p_2 = rms(tempo_participante2)\n",
    "data_wl_p_2 = wl(tempo_participante2)\n",
    "data_wamp_p_2 = wamp(tempo_participante2, 0.01)\n",
    "\n",
    "data_fmd_p_2 = fmd(frequencia_participante2)\n",
    "data_mmdf_p_2 = mmdf(frequencia_participante2)\n",
    "\n"
   ]
  },
  {
   "cell_type": "code",
   "execution_count": 38,
   "metadata": {},
   "outputs": [
    {
     "name": "stdout",
     "output_type": "stream",
     "text": [
      "(6, 28, 33, 2)\n",
      "(6, 28, 33, 2)\n"
     ]
    }
   ],
   "source": [
    "# União do vetor de características inicial\n",
    "features_participante_1 = np.array([data_wamp_p_1, data_var_p_1, data_rms_p_1, data_wl_p_1, data_fmd_p_1, data_mmdf_p_1]) \n",
    "print(features_participante_1.shape)\n",
    "\n",
    "features_participante_2 = np.array([data_wamp_p_2, data_var_p_2, data_rms_p_2, data_wl_p_2, data_fmd_p_2, data_mmdf_p_2])\n",
    "print(features_participante_2.shape)\n"
   ]
  },
  {
   "cell_type": "code",
   "execution_count": 39,
   "metadata": {},
   "outputs": [
    {
     "data": {
      "text/plain": [
       "((56, 198), (56, 198))"
      ]
     },
     "execution_count": 39,
     "metadata": {},
     "output_type": "execute_result"
    }
   ],
   "source": [
    "\n",
    "# organização das dimensões participante 1\n",
    "features_participante_1 = features_participante_1.transpose(1, 3, 0, 2)\n",
    "\n",
    "# criar vetor de características definitivo participante 1\n",
    "features_participante_1 = features_participante_1.reshape(features_participante_1.shape[0] * features_participante_1.shape[1],\n",
    "                            features_participante_1.shape[2] * features_participante_1.shape[3])\n",
    "\n",
    "# organização das dimensões participante 2\n",
    "features_participante_2 = features_participante_2.transpose(1, 3, 0, 2)\n",
    "\n",
    "# criar vetor de características definitivo participante 2\n",
    "features_participante_2 = features_participante_2.reshape(features_participante_2.shape[0] * features_participante_2.shape[1],\n",
    "                            features_participante_2.shape[2] * features_participante_2.shape[3])\n",
    "\n",
    "features_participante_1.shape, features_participante_2.shape"
   ]
  },
  {
   "cell_type": "markdown",
   "metadata": {},
   "source": [
    "*Tarefa 3*: Realização da normalização dos dados utilizando ferramentas já conhecidas"
   ]
  },
  {
   "cell_type": "code",
   "execution_count": 69,
   "metadata": {},
   "outputs": [
    {
     "data": {
      "text/plain": [
       "((56, 198), (56, 198))"
      ]
     },
     "execution_count": 69,
     "metadata": {},
     "output_type": "execute_result"
    }
   ],
   "source": [
    "from sklearn.preprocessing import MinMaxScaler\n",
    "\n",
    "X_norm_1 = MinMaxScaler().fit_transform(features_participante_1)\n",
    "X_norm_2 = MinMaxScaler().fit_transform(features_participante_2)\n",
    "\n",
    "X_norm_1.shape, X_norm_2.shape"
   ]
  },
  {
   "cell_type": "markdown",
   "metadata": {},
   "source": [
    "*Tarefa 4*: Realização da seleção de características, utilizando ferramentas já conhecidas"
   ]
  },
  {
   "cell_type": "markdown",
   "metadata": {},
   "source": [
    "Criação do vetor de *labels*"
   ]
  },
  {
   "cell_type": "code",
   "execution_count": 70,
   "metadata": {},
   "outputs": [
    {
     "data": {
      "text/plain": [
       "56"
      ]
     },
     "execution_count": 70,
     "metadata": {},
     "output_type": "execute_result"
    }
   ],
   "source": [
    "labels_str = ['dir', 'esq', 'cima', 'baixo', 'cima', 'baixo',\n",
    "'baixo', 'esq', 'dir', 'baixo', 'dir', 'dir', 'esq', 'cima',\n",
    "'baixo', 'cima', 'esq', 'dir', 'cima', 'esq', 'baixo', 'esq',\n",
    "'dir', 'esq', 'cima', 'dir', 'cima', 'baixo']\n",
    "\n",
    "# transformando para numérico\n",
    "lab_dict = {'dir': 0, 'esq': 1, 'cima': 2, 'baixo': 3}\n",
    "labels_num = [lab_dict[item] for item in labels_str]\n",
    "\n",
    "# criação do vetor de labels final\n",
    "y = labels_num * int(features_participante_1.shape[0] / len(labels_num))\n",
    "len(y)"
   ]
  },
  {
   "cell_type": "markdown",
   "metadata": {},
   "source": [
    "*Tarefa 5*: Realização da classificação utilizando `SVM`."
   ]
  },
  {
   "cell_type": "code",
   "execution_count": 71,
   "metadata": {},
   "outputs": [
    {
     "data": {
      "text/plain": [
       "((56, 1), (56, 26))"
      ]
     },
     "execution_count": 71,
     "metadata": {},
     "output_type": "execute_result"
    }
   ],
   "source": [
    "from sklearn.model_selection import StratifiedKFold\n",
    "from sklearn.feature_selection import RFECV\n",
    "from sklearn.svm import SVC\n",
    "\n",
    "skf = StratifiedKFold(n_splits=4)\n",
    "rfe = RFECV(SVC(kernel=\"linear\"), min_features_to_select=1, step=2, cv=skf, scoring='accuracy')\n",
    "X_full_1 = rfe.fit_transform(X_norm_1, y)\n",
    "X_full_2 = rfe.fit_transform(X_norm_2, y)\n",
    "\n",
    "X_full_1.shape, X_full_2.shape"
   ]
  },
  {
   "cell_type": "code",
   "execution_count": 77,
   "metadata": {},
   "outputs": [
    {
     "name": "stdout",
     "output_type": "stream",
     "text": [
      "Aplicando SVM\n",
      "Participante 1 - Accuracy: 41.67 %\n",
      "Participante 2 - Accuracy: 58.33 %\n"
     ]
    }
   ],
   "source": [
    "from sklearn.metrics import accuracy_score\n",
    "from sklearn.svm import SVC\n",
    "from sklearn.model_selection import train_test_split\n",
    "\n",
    "\n",
    "print(\"Aplicando SVM\")\n",
    "\n",
    "# Participante 1\n",
    "X_train_1, X_test_1, y_train_1, y_test_1 = train_test_split(X_full_1, y, test_size=0.2, random_state=7)\n",
    "\n",
    "svm_model = SVC(kernel='linear').fit(X_train_1, y_train_1)\n",
    "y_pred_1 = svm_model.predict(X_test_1)\n",
    "\n",
    "print(\"Participante 1 - Accuracy: %.2f %%\" % (accuracy_score(y_test_1, y_pred_1) * 100))\n",
    "\n",
    "# Participante 2\n",
    "X_train_2, X_test_2, y_train_2, y_test_2 = train_test_split(X_full_2, y, test_size=0.2, random_state=2)\n",
    "\n",
    "svm_model = SVC(kernel='linear').fit(X_train_2, y_train_2)\n",
    "y_pred_2 = svm_model.predict(X_test_2)\n",
    "\n",
    "print(\"Participante 2 - Accuracy: %.2f %%\" % (accuracy_score(y_test_2, y_pred_2) * 100))"
   ]
  }
 ],
 "metadata": {
  "kernelspec": {
   "display_name": "venv",
   "language": "python",
   "name": "python3"
  },
  "language_info": {
   "codemirror_mode": {
    "name": "ipython",
    "version": 3
   },
   "file_extension": ".py",
   "mimetype": "text/x-python",
   "name": "python",
   "nbconvert_exporter": "python",
   "pygments_lexer": "ipython3",
   "version": "3.10.7"
  }
 },
 "nbformat": 4,
 "nbformat_minor": 2
}
